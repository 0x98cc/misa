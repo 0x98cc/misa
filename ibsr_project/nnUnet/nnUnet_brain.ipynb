{
  "cells": [
    {
      "cell_type": "markdown",
      "source": [
        "#Package Installation"
      ],
      "metadata": {
        "id": "5YctbRggt3fs"
      }
    },
    {
      "cell_type": "code",
      "execution_count": null,
      "metadata": {
        "id": "-J-8UnjNEICi"
      },
      "outputs": [],
      "source": [
        "!pip install nnunet"
      ]
    },
    {
      "cell_type": "code",
      "source": [
        "!pip install gdown"
      ],
      "metadata": {
        "id": "O7LVAdvRsaLF"
      },
      "execution_count": null,
      "outputs": []
    },
    {
      "cell_type": "code",
      "source": [
        "!pip install -U --no-cache-dir gdown --pre\n"
      ],
      "metadata": {
        "id": "Ga6OV-jJs05Q"
      },
      "execution_count": null,
      "outputs": []
    },
    {
      "cell_type": "markdown",
      "source": [
        "#Data Curation"
      ],
      "metadata": {
        "id": "k9qjDim0t9x0"
      }
    },
    {
      "cell_type": "code",
      "source": [
        "import gdown\n",
        "gdown.download(\n",
        "    f\"https://drive.google.com/u/0/uc?id=1K_K6nr-dapEDC4GYeFLnbQWlEQf1oJdl\",\n",
        "    'nnUnet_data.zip'\n",
        ")"
      ],
      "metadata": {
        "id": "s10mEUOPsF32"
      },
      "execution_count": null,
      "outputs": []
    },
    {
      "cell_type": "code",
      "execution_count": null,
      "metadata": {
        "id": "meiMR2j54ntn"
      },
      "outputs": [],
      "source": [
        "!unzip nnUnet_data.zip"
      ]
    },
    {
      "cell_type": "markdown",
      "source": [
        "#nnUNet"
      ],
      "metadata": {
        "id": "AZI8UjEEt_-d"
      }
    },
    {
      "cell_type": "markdown",
      "source": [
        "## Path Settings"
      ],
      "metadata": {
        "id": "E6v_0ZZquCV-"
      }
    },
    {
      "cell_type": "code",
      "execution_count": 3,
      "metadata": {
        "id": "CNgONOrL4fqW"
      },
      "outputs": [],
      "source": [
        "import os\n",
        "#define nnUNet path\n",
        "nnUNet_raw_data_base= r\"/home/ugusers/marawan_2/seg/nnUnet_data/nnUNet_raw_data_base\"\n",
        "nnUNet_preprocessed= r\"/home/ugusers/marawan_2/seg/nnUnet_data//nnUNet_preprocessed\"\n",
        "results_folder= r\"/home/ugusers/marawan_2/seg/nnUnet_data/nnUNet_preprocessed\\results\"\n",
        "\n",
        "os.environ[\"nnUNet_raw_data_base\"] = str(nnUNet_raw_data_base)\n",
        "os.environ[\"nnUNet_preprocessed\"] = str(nnUNet_preprocessed)\n",
        "os.environ[\"RESULTS_FOLDER\"] = str(results_folder)"
      ]
    },
    {
      "cell_type": "markdown",
      "source": [
        "## Tasks preparation"
      ],
      "metadata": {
        "id": "rIsWMH6ruFK2"
      }
    },
    {
      "cell_type": "code",
      "execution_count": null,
      "metadata": {
        "id": "xD1xgTEZ4hjl"
      },
      "outputs": [],
      "source": [
        "#original\n",
        "!nnUNet_plan_and_preprocess -t 505 --verify_dataset_integrity\n",
        "#preprocessed\n",
        "!nnUNet_plan_and_preprocess -t 507 --verify_dataset_integrity\n",
        "#mixed\n",
        "!nnUNet_plan_and_preprocess -t 506 --verify_dataset_integrity"
      ]
    },
    {
      "cell_type": "markdown",
      "source": [
        "## Original 2D nnUNet Cross Validation Task Queue"
      ],
      "metadata": {
        "id": "reXOa3-_uML9"
      }
    },
    {
      "cell_type": "code",
      "execution_count": null,
      "metadata": {
        "id": "5mpmHh8-5si6"
      },
      "outputs": [],
      "source": [
        "!nnUNet_train 2d nnUNetTrainerV2 Task505_original 0 --npz\n",
        "!nnUNet_train 2d nnUNetTrainerV2 Task505_original 1 --npz\n",
        "!nnUNet_train 2d nnUNetTrainerV2 Task505_original 2 --npz\n",
        "!nnUNet_train 2d nnUNetTrainerV2 Task505_original 3 --npz\n",
        "!nnUNet_train 2d nnUNetTrainerV2 Task505_original 4 --npz"
      ]
    },
    {
      "cell_type": "markdown",
      "source": [
        "## Preprocessed 2D nnUNet Cross Validation Task Queue"
      ],
      "metadata": {
        "id": "ASP8dlOquVpB"
      }
    },
    {
      "cell_type": "code",
      "source": [
        "!nnUNet_train 2d nnUNetTrainerV2 Task507_processed 0 --npz\n",
        "!nnUNet_train 2d nnUNetTrainerV2 Task507_processed 1 --npz\n",
        "!nnUNet_train 2d nnUNetTrainerV2 Task507_processed 2 --npz\n",
        "!nnUNet_train 2d nnUNetTrainerV2 Task507_processed 3 --npz\n",
        "!nnUNet_train 2d nnUNetTrainerV2 Task507_processed 4 --npz"
      ],
      "metadata": {
        "id": "vzCi6U-NufhA"
      },
      "execution_count": null,
      "outputs": []
    },
    {
      "cell_type": "markdown",
      "source": [
        "## Mix 2D nnUNet Cross Validation Task Queue"
      ],
      "metadata": {
        "id": "T6VTzJhbufg_"
      }
    },
    {
      "cell_type": "code",
      "source": [
        "!nnUNet_train 2d nnUNetTrainerV2 Task506_mix 0 --npz\n",
        "!nnUNet_train 2d nnUNetTrainerV2 Task506_mix 1 --npz\n",
        "!nnUNet_train 2d nnUNetTrainerV2 Task506_mix 2 --npz\n",
        "!nnUNet_train 2d nnUNetTrainerV2 Task506_mix 3 --npz\n",
        "!nnUNet_train 2d nnUNetTrainerV2 Task506_mix 4 --npz"
      ],
      "metadata": {
        "id": "DHOpNBQ0uV5y"
      },
      "execution_count": null,
      "outputs": []
    },
    {
      "cell_type": "markdown",
      "source": [
        "## Finding best configuration for the three tasks"
      ],
      "metadata": {
        "id": "y_3eWRX_uTso"
      }
    },
    {
      "cell_type": "code",
      "source": [
        "!nnUNet_find_best_configuration -m 2d -t 505\n",
        "!nnUNet_find_best_configuration -m 2d -t 507\n",
        "!nnUNet_find_best_configuration -m 2d -t 506"
      ],
      "metadata": {
        "id": "Wx5eH-SGVF5a"
      },
      "execution_count": null,
      "outputs": []
    },
    {
      "cell_type": "markdown",
      "source": [
        "#Output prediction for the three tasks"
      ],
      "metadata": {
        "id": "21MNPn-AuvdV"
      }
    },
    {
      "cell_type": "code",
      "source": [
        "!nnUNet_predict -i /home/ugusers/marawan_2/seg/nnUnet_data/nnUNet_raw_data_base/nnUNet_raw_data/Task505_original/imagesTs -o /home/ugusers/marawan_2/seg//infer_image_orig_orig -tr nnUNetTrainerV2 -ctr nnUNetTrainerV2CascadeFullRes -m 2d -p nnUNetPlansv2.1 -t 505\n",
        "!nnUNet_predict -i /home/ugusers/marawan_2/seg/nnUnet_data/nnUNet_raw_data_base/nnUNet_raw_data/Task507_processed/imagesTs -o /home/ugusers/marawan_2/seg//infer_image_prep_prep -tr nnUNetTrainerV2 -ctr nnUNetTrainerV2CascadeFullRes -m 2d -p nnUNetPlansv2.1 -t 507\n",
        "\n",
        "#for model trained on mixed data we infer on theese data\n",
        "!nnUNet_predict -i /home/ugusers/marawan_2/seg/nnUnet_data/nnUNet_raw_data_base/nnUNet_raw_data/Task505_original/imagesTs -o /home/ugusers/marawan_2/seg//infer_image_mix_orig -tr nnUNetTrainerV2 -ctr nnUNetTrainerV2CascadeFullRes -m 2d -p nnUNetPlansv2.1 -t Task506_mix\n",
        "!nnUNet_predict -i /home/ugusers/marawan_2/seg/nnUnet_data/nnUNet_raw_data_base/nnUNet_raw_data/Task507_processed/imagesTs -o /home/ugusers/marawan_2/seg//infer_image_mix_prep -tr nnUNetTrainerV2 -ctr nnUNetTrainerV2CascadeFullRes -m 2d -p nnUNetPlansv2.1 -t Task506_mix"
      ],
      "metadata": {
        "id": "aQB9mmDrUjhf"
      },
      "execution_count": null,
      "outputs": []
    },
    {
      "cell_type": "markdown",
      "source": [
        "#3D full resolution nn-UNet"
      ],
      "metadata": {
        "id": "7bV-9IOwvYbD"
      }
    },
    {
      "cell_type": "code",
      "source": [
        "#replaces all previous bash scripts  with \"3d_fullres\" instead of \"2d\""
      ],
      "metadata": {
        "id": "IwueAJWZvrbA"
      },
      "execution_count": null,
      "outputs": []
    }
  ],
  "metadata": {
    "accelerator": "GPU",
    "colab": {
      "provenance": []
    },
    "gpuClass": "standard",
    "kernelspec": {
      "display_name": "Python 3",
      "name": "python3"
    },
    "language_info": {
      "name": "python"
    }
  },
  "nbformat": 4,
  "nbformat_minor": 0
}